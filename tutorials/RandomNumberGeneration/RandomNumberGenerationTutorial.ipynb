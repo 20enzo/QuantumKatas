{
 "cells": [
  {
   "cell_type": "markdown",
   "metadata": {},
   "source": [
    "# Quantum Random Number Generation Algorithm Tutorial\n",
    "\n",
    "Random number generation is a simple example of a quantum algorithm. True random number generation is notoriously difficult, but QRNG is true random number generation. This makes it a useful application of quantum computing that uses relatively few qubits.\n",
    "\n",
    "Let's go!"
   ]
  },
  {
   "cell_type": "markdown",
   "metadata": {},
   "source": [
    "To begin, first prepare this notebook for execution (if you skip the first step, you'll get \"Syntax does not match any known patterns\" error when you try to execute Q# code in the next cells; if you skip the second step, you'll get \"Invalid test name\" error):"
   ]
  },
  {
   "cell_type": "code",
   "execution_count": null,
   "metadata": {},
   "outputs": [],
   "source": [
    "%package Microsoft.Quantum.Katas::0.12.20070124"
   ]
  },
  {
   "cell_type": "markdown",
   "metadata": {},
   "source": [
    "> The package versions in the output of the cell above should always match. If you are running the Notebooks locally and the versions do not match, please install the IQ# version that matches the version of the `Microsoft.Quantum.Katas` package.\n",
    "> <details>\n",
    "> <summary><u>How to install the right IQ# version</u></summary>\n",
    "> For example, if the version of `Microsoft.Quantum.Katas` package above is 0.1.2.3, the installation steps are as follows:\n",
    ">\n",
    "> 1. Stop the kernel.\n",
    "> 2. Uninstall the existing version of IQ#:\n",
    ">        dotnet tool uninstall microsoft.quantum.iqsharp -g\n",
    "> 3. Install the matching version:\n",
    ">        dotnet tool install microsoft.quantum.iqsharp -g --version 0.1.2.3\n",
    "> 4. Reinstall the kernel:\n",
    ">        dotnet iqsharp install\n",
    "> 5. Restart the Notebook.\n",
    "> </details>\n"
   ]
  },
  {
   "cell_type": "code",
   "execution_count": null,
   "metadata": {},
   "outputs": [],
   "source": [
    "%workspace reload"
   ]
  },
  {
   "cell_type": "markdown",
   "metadata": {},
   "source": [
    "## <span style=\"color:blue\">Exercise 1</span>: Generate a single random bit\n",
    "\n",
    "Let's start by generating a single random bit. Using a qubit, apply a quantum gate and use the result to produce a $0$ or $1$. There should be an equal chance of either number.\n",
    "\n",
    "**Goal:** Generate a $0$ or $1$ with equal probability.\n",
    "\n",
    "> Useful documentation: [Q# Numeric Expressions](https://docs.microsoft.com/quantum/language/expressions#numeric-expressions)."
   ]
  },
  {
   "cell_type": "code",
   "execution_count": null,
   "metadata": {},
   "outputs": [],
   "source": [
    "%kata T1_RandomBit_Test\n",
    "\n",
    "operation RandomBit () : Int {\n",
    "    using (q = Qubit()) {\n",
    "            //...\n",
    "            return -1;\n",
    "    }\n",
    "}"
   ]
  },
  {
   "cell_type": "markdown",
   "metadata": {},
   "source": [
    "## <span style=\"color:blue\">Exercise 2</span>: Generate a random two-bit number!\n",
    "\n",
    "Now that you have generated a single bit, let's extend the logic. Generate two bits and use them to return either $0, 1, 2$, or $3$.\n",
    "\n",
    "**Goal:** Generate a random number in the range $[0, 3]$ with an equal chance of each of the four numbers.\n",
    "\n",
    "> Useful documentation: [Q# Control Flow](https://docs.microsoft.com/quantum/language/statements#control-flow)."
   ]
  },
  {
   "cell_type": "code",
   "execution_count": null,
   "metadata": {},
   "outputs": [],
   "source": [
    "%kata T2_RandomTwoBits_Test\n",
    "\n",
    "operation RandomTwoBits () : Int {\n",
    "    // ...\n",
    "    return -1;\n",
    "}"
   ]
  },
  {
   "cell_type": "markdown",
   "metadata": {},
   "source": [
    "## <span style=\"color:blue\">Exercise 3</span>: Generate a number of arbitrary size,\n",
    "\n",
    "Let's take it a step further and generate an $N$ bit number. Remember that you can use previous operations in your solution.\n",
    "\n",
    "**Goal:** Generate a random number in the range $[0, 2 ^N - 1]$ with an equal chance of any included number.\",\n",
    "\n",
    "> Useful documentation: [Q# exponents](https://docs.microsoft.com/en-us/qsharp/api/qsharp/microsoft.quantum.math.powi).\""
   ]
  },
  {
   "cell_type": "code",
   "execution_count": null,
   "metadata": {
    "scrolled": true
   },
   "outputs": [],
   "source": [
    "%kata T3_RandomNBits_Test \n",
    "\n",
    "operation RandomNBits (N : Int) : Int {\n",
    "    //...\n",
    "    return -1;\n",
    "}"
   ]
  },
  {
   "cell_type": "markdown",
   "metadata": {},
   "source": [
    "## <span style=\"color:blue\">Exercise 4</span>: Generate a weighted bit!\n",
    "\n",
    "You've now seen how to implement a random uniform distribution in Q#. However in each of the above examples, all numbers were equally likely. Now let's create a random function with non-equal probabilites.\n",
    "\n",
    "**Inputs:** \n",
    "A double $x$, $0 \\le x \\le 1$. \n",
    "\n",
    "**Goal:** Generate $0$ or $1$ with $x$ probability of $0$.\n"
   ]
  },
  {
   "cell_type": "code",
   "execution_count": null,
   "metadata": {},
   "outputs": [],
   "source": [
    "%kata T4_WeightedRandomBit_Test\n",
    "\n",
    "operation WeightedRandomBit (x : Double) : Int {\n",
    "    // ...\n",
    "    return -1;\n",
    "}"
   ]
  }
 ],
 "metadata": {
  "kernelspec": {
   "display_name": "Q#",
   "language": "qsharp",
   "name": "iqsharp"
  },
  "language_info": {
   "file_extension": ".qs",
   "mimetype": "text/x-qsharp",
   "name": "qsharp",
   "version": "0.10"
  }
 },
 "nbformat": 4,
 "nbformat_minor": 2
}
