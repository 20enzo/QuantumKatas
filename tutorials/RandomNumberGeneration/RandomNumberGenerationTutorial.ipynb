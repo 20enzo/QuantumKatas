{
 "cells": [
  {
   "cell_type": "markdown",
   "metadata": {},
   "source": [
    "# Quantum Random Number Generation Algorithm Tutorial\n",
    "\n",
    "True random number generation is a notoriously difficult problem. Many \"random\" generators today are actually pseudorandom, using a starting seed to spawning seemingly-random numbers that are actually a repeatable function of that seed. Most true random number generations are based on measurements of some natural phenomenon, such as atmospheric noise or atomic decay. (You can read more about it [here]( https://en.wikipedia.org/wiki/Random_number_generation\n",
    ").) Quantum random number generators (QRNGs) are truly random. The quantum algorithm for random number generation is a simple application of quantum gates that only requires as many qubits as one would need bits to store the numbers being produced.\n",
    "\n",
    "In this tutorial you will:\n",
    "* learn about random number generation and the principles behind quantum random number generation,\n",
    "* implement a QRNG with equal probability of any given number,\n",
    "* and implement a single-bit QRNG with weighted probabilities.\n",
    "\n",
    "Let's go!"
   ]
  },
  {
   "cell_type": "markdown",
   "metadata": {},
   "source": [
    "To begin, first prepare this notebook for execution (if you skip the first step, you'll get \"Syntax does not match any known patterns\" error when you try to execute Q# code in the next cells; if you skip the second step, you'll get \"Invalid test name\" error):"
   ]
  },
  {
   "cell_type": "code",
   "execution_count": null,
   "metadata": {},
   "outputs": [],
   "source": [
    "%package Microsoft.Quantum.Katas::0.12.20070124"
   ]
  },
  {
   "cell_type": "markdown",
   "metadata": {},
   "source": [
    "> The package versions in the output of the cell above should always match. If you are running the Notebooks locally and the versions do not match, please install the IQ# version that matches the version of the `Microsoft.Quantum.Katas` package.\n",
    "> <details>\n",
    "> <summary><u>How to install the right IQ# version</u></summary>\n",
    "> For example, if the version of `Microsoft.Quantum.Katas` package above is 0.1.2.3, the installation steps are as follows:\n",
    ">\n",
    "> 1. Stop the kernel.\n",
    "> 2. Uninstall the existing version of IQ#:\n",
    ">        dotnet tool uninstall microsoft.quantum.iqsharp -g\n",
    "> 3. Install the matching version:\n",
    ">        dotnet tool install microsoft.quantum.iqsharp -g --version 0.1.2.3\n",
    "> 4. Reinstall the kernel:\n",
    ">        dotnet iqsharp install\n",
    "> 5. Restart the Notebook.\n",
    "> </details>\n"
   ]
  },
  {
   "cell_type": "code",
   "execution_count": null,
   "metadata": {},
   "outputs": [],
   "source": [
    "%workspace reload"
   ]
  },
  {
   "cell_type": "markdown",
   "metadata": {},
   "source": [
    "## Introduction\n",
    "\n",
    "Recall from the [Qubit](../Qubit/Qubit.ipynb) tutorial that with basis states $|0\\rangle$ and $|1\\rangle$, a qubit $\\psi$ is defined as:\n",
    "\n",
    "$$|\\psi\\rangle = \\begin{bmatrix} \\alpha \\\\ \\beta \\end{bmatrix} = \\alpha|0\\rangle + \\beta|1\\rangle$$\n",
    "\n",
    "$$|\\alpha|^2 + |\\beta|^2 = 1$$\n",
    "\n",
    "We call $\\alpha$ and $\\beta$ the **amplitudes** of states $0$ and $1$, respectively. When $\\psi$ is measured, it collapses into either $|0\\rangle$ or $|1\\rangle$, with probabilities according to the state amplitudes. When measured, there is a $|\\alpha|^2$ probability that the $|0\\rangle$ state will be measured and a $|\\beta|^2$ probability that the $|1\\rangle$ state will be measured.\n",
    "\n",
    "For example, the qubit $\\begin{bmatrix} \\frac{1}{\\sqrt{2}} \\\\ \\frac{1}{\\sqrt{2}} \\end{bmatrix}$ will be measured as $|0\\rangle$ or $|1\\rangle$ with equal probability while the qubit $\\begin{bmatrix} \\frac{1}{2} \\\\ \\frac{3}{2\\sqrt{3}} \\end{bmatrix}$ will measure as $|0\\rangle$ only 25% of the time.\n"
   ]
  },
  {
   "cell_type": "markdown",
   "metadata": {},
   "source": [
    "## <span style=\"color:blue\">Exercise 1</span>: Generate a single random bit\n",
    "\n",
    "Let's start by generating a single random bit. Apply a quantum gate to a qubit and use the result to produce a $0$ or $1$. There should be an equal chance of either number. Refer back to the [Single Qubit Gate](../SingleQubitGate/SingleQubitGate.ipynb) tutorial if you need a refresher on the various gates.\n",
    "\n",
    "**Goal:** Generate a $0$ or $1$ with equal probability.\n",
    "\n",
    "**Stretch goal:** Can you find a second way to implement this operation?\n",
    "\n",
    "<details>\n",
    "    <summary><strong>Need a hint? Click here</strong></summary>\n",
    "    How would measuring the qubit over a different basis change the result? \n",
    "</details>\n"
   ]
  },
  {
   "cell_type": "code",
   "execution_count": null,
   "metadata": {},
   "outputs": [],
   "source": [
    "%kata T1_RandomBit_Test\n",
    "\n",
    "operation RandomBit () : Int {\n",
    "    using (q = Qubit()) {\n",
    "            //...\n",
    "            return -1;\n",
    "    }\n",
    "}"
   ]
  },
  {
   "cell_type": "markdown",
   "metadata": {},
   "source": [
    "## <span style=\"color:blue\">Exercise 2</span>: Generate a random two-bit number!\n",
    "\n",
    "Now that you can generate a single random bit, you can use that logic to create random multi-bit numbers. Let's try first to make a two-bit number by combining two randomly generated bits.\n",
    "\n",
    "**Goal:** Generate a random number in the range $[0, 3]$ with an equal chance of each of the four numbers.\n"
   ]
  },
  {
   "cell_type": "code",
   "execution_count": null,
   "metadata": {},
   "outputs": [],
   "source": [
    "%kata T2_RandomTwoBits_Test\n",
    "\n",
    "operation RandomTwoBits () : Int {\n",
    "    // ...\n",
    "    return -1;\n",
    "}"
   ]
  },
  {
   "cell_type": "markdown",
   "metadata": {},
   "source": [
    "## <span style=\"color:blue\">Exercise 3</span>: Generate a number of arbitrary size,\n",
    "\n",
    "Let's take it a step further and generate an $N$ bit number. Remember that you can use previous operations in your solution.\n",
    "\n",
    "**Goal:** Generate a random number in the range $[0, 2 ^N - 1]$ with an equal chance of any included number.\",\n",
    "\n",
    "> Useful documentation: [Q# exponents](https://docs.microsoft.com/en-us/qsharp/api/qsharp/microsoft.quantum.math.powi)."
   ]
  },
  {
   "cell_type": "code",
   "execution_count": null,
   "metadata": {
    "scrolled": true
   },
   "outputs": [],
   "source": [
    "%kata T3_RandomNBits_Test \n",
    "\n",
    "operation RandomNBits (N : Int) : Int {\n",
    "    //...\n",
    "    return -1;\n",
    "}"
   ]
  },
  {
   "cell_type": "markdown",
   "metadata": {},
   "source": [
    "## <span style=\"color:blue\">Exercise 4</span>: Generate a weighted bit!\n",
    "\n",
    "In each of the above exercises, all numbers were equally likely. Now let's create a random function with non-equal probabilites. Remember from the introduction that by setting $\\alpha$ and $\\beta$, we can control the probability of $|0\\rangle$ and $|1\\rangle$ (respectively) when the qubit is measured.\n",
    "\n",
    "**Inputs:** \n",
    "A double $x$, $0 \\le x \\le 1$. \n",
    "\n",
    "**Goal:** Generate $0$ or $1$ with $x$ probability of $0$.\n",
    "\n",
    "> You will probably need functions from the [Math](https://docs.microsoft.com/en-us/qsharp/api/qsharp/microsoft.quantum.math) namespace, specifically [Cos](https://docs.microsoft.com/en-us/qsharp/api/qsharp/microsoft.quantum.math.cos).\n",
    "> \n"
   ]
  },
  {
   "cell_type": "code",
   "execution_count": null,
   "metadata": {},
   "outputs": [],
   "source": [
    "%kata T4_WeightedRandomBit_Test\n",
    "\n",
    "operation WeightedRandomBit (x : Double) : Int {\n",
    "    // ...\n",
    "    return -1;\n",
    "}"
   ]
  },
  {
   "cell_type": "markdown",
   "metadata": {},
   "source": [
    "## What's Next?\n",
    "We hope you enjoyed this tutorial on quantum random number generation! If you're looking to learn more about quantum computing and Q#, here are some suggestions:\n",
    "* The [Quantum Katas](https://github.com/microsoft/QuantumKatas/) are sets of programming exercises on quantum computing that can be solved using Q#. They cover a variety of topics, from the basics like the concepts of superposition and measurements to more interesting algorithms like Grover's search.\n",
    "* For another look at quantum random number generation, you can check out the [Q# MSLearn module](https://docs.microsoft.com/en-us/learn/modules/qsharp-create-first-quantum-development-kit/1-introduction)."
   ]
  }
 ],
 "metadata": {
  "kernelspec": {
   "display_name": "Q#",
   "language": "qsharp",
   "name": "iqsharp"
  },
  "language_info": {
   "file_extension": ".qs",
   "mimetype": "text/x-qsharp",
   "name": "qsharp",
   "version": "0.12"
  }
 },
 "nbformat": 4,
 "nbformat_minor": 2
}
